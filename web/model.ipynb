{
 "cells": [
  {
   "cell_type": "code",
   "execution_count": 37,
   "id": "7f10858d",
   "metadata": {},
   "outputs": [],
   "source": [
    "import numpy as np\n",
    "import pandas as pd\n",
    "import matplotlib.pyplot as plt\n",
    "import seaborn as sns\n",
    "import pickle"
   ]
  },
  {
   "cell_type": "code",
   "execution_count": 38,
   "id": "8aef0417",
   "metadata": {},
   "outputs": [],
   "source": [
    "filename='data_cardiovascular_risk.csv'"
   ]
  },
  {
   "cell_type": "code",
   "execution_count": 39,
   "id": "3daf18cd",
   "metadata": {},
   "outputs": [],
   "source": [
    "df_nan = pd.read_csv('data_cardiovascular_risk.csv')"
   ]
  },
  {
   "cell_type": "code",
   "execution_count": 40,
   "id": "b8a231b5",
   "metadata": {},
   "outputs": [
    {
     "name": "stdout",
     "output_type": "stream",
     "text": [
      "        id  age  education sex is_smoking  cigsPerDay  BPMeds  \\\n",
      "1        1   36        4.0   M         NO         0.0     0.0   \n",
      "2        2   46        1.0   F        YES        10.0     0.0   \n",
      "3        3   50        1.0   M        YES        20.0     0.0   \n",
      "4        4   64        1.0   F        YES        30.0     0.0   \n",
      "5        5   61        3.0   F         NO         0.0     0.0   \n",
      "...    ...  ...        ...  ..        ...         ...     ...   \n",
      "3384  3384   61        1.0   F         NO         0.0     0.0   \n",
      "3385  3385   60        1.0   F         NO         0.0     0.0   \n",
      "3386  3386   46        1.0   F         NO         0.0     0.0   \n",
      "3387  3387   44        3.0   M        YES         3.0     0.0   \n",
      "3389  3389   54        3.0   F         NO         0.0     0.0   \n",
      "\n",
      "      prevalentStroke  prevalentHyp  diabetes  totChol  sysBP  diaBP    BMI  \\\n",
      "1                   0             1         0    212.0  168.0   98.0  29.77   \n",
      "2                   0             0         0    250.0  116.0   71.0  20.35   \n",
      "3                   0             1         0    233.0  158.0   88.0  28.26   \n",
      "4                   0             0         0    241.0  136.5   85.0  26.42   \n",
      "5                   0             1         0    272.0  182.0  121.0  32.80   \n",
      "...               ...           ...       ...      ...    ...    ...    ...   \n",
      "3384                0             1         0    217.0  182.0   86.0  26.98   \n",
      "3385                0             0         0    261.0  123.5   79.0  29.28   \n",
      "3386                0             0         0    199.0  102.0   56.0  21.96   \n",
      "3387                0             1         0    352.0  164.0  119.0  28.92   \n",
      "3389                0             0         0    288.0  124.0   77.0  29.88   \n",
      "\n",
      "      heartRate  glucose  TenYearCHD  \n",
      "1          72.0     75.0           0  \n",
      "2          88.0     94.0           0  \n",
      "3          68.0     94.0           1  \n",
      "4          70.0     77.0           0  \n",
      "5          85.0     65.0           1  \n",
      "...         ...      ...         ...  \n",
      "3384      105.0    113.0           0  \n",
      "3385       70.0    103.0           0  \n",
      "3386       80.0     84.0           0  \n",
      "3387       73.0     72.0           1  \n",
      "3389       79.0     92.0           0  \n",
      "\n",
      "[2927 rows x 17 columns]\n"
     ]
    }
   ],
   "source": [
    "df = df_nan.dropna()\n",
    "print(df)"
   ]
  },
  {
   "cell_type": "code",
   "execution_count": 41,
   "id": "70a1ce37",
   "metadata": {},
   "outputs": [
    {
     "name": "stdout",
     "output_type": "stream",
     "text": [
      "   age  education  sex  cigsPerDay  BPMeds  prevalentStroke  prevalentHyp  \\\n",
      "1   36        4.0    1         0.0     0.0                0             1   \n",
      "2   46        1.0    0        10.0     0.0                0             0   \n",
      "3   50        1.0    1        20.0     0.0                0             1   \n",
      "4   64        1.0    0        30.0     0.0                0             0   \n",
      "5   61        3.0    0         0.0     0.0                0             1   \n",
      "\n",
      "   diabetes  totChol  sysBP  diaBP    BMI  heartRate  glucose  TenYearCHD  \n",
      "1         0    212.0  168.0   98.0  29.77       72.0     75.0           0  \n",
      "2         0    250.0  116.0   71.0  20.35       88.0     94.0           0  \n",
      "3         0    233.0  158.0   88.0  28.26       68.0     94.0           1  \n",
      "4         0    241.0  136.5   85.0  26.42       70.0     77.0           0  \n",
      "5         0    272.0  182.0  121.0  32.80       85.0     65.0           1  \n"
     ]
    },
    {
     "name": "stderr",
     "output_type": "stream",
     "text": [
      "C:\\Users\\Hi\\AppData\\Local\\Temp\\ipykernel_7304\\3466657744.py:2: SettingWithCopyWarning: \n",
      "A value is trying to be set on a copy of a slice from a DataFrame.\n",
      "Try using .loc[row_indexer,col_indexer] = value instead\n",
      "\n",
      "See the caveats in the documentation: https://pandas.pydata.org/pandas-docs/stable/user_guide/indexing.html#returning-a-view-versus-a-copy\n",
      "  df['sex']=df[\"sex\"].map({\"M\":1,\"F\":0})\n"
     ]
    }
   ],
   "source": [
    "#df['is_smoking']=df[\"is_smoking\"].map({\"YES\":1,\"NO\":0})\n",
    "df['sex']=df[\"sex\"].map({\"M\":1,\"F\":0})\n",
    "df=df.drop([\"id\"],axis=1)\n",
    "data_features = df.drop(['is_smoking'], axis=1)\n",
    "print(data_features.head())"
   ]
  },
  {
   "cell_type": "code",
   "execution_count": 42,
   "id": "a50ce2d6",
   "metadata": {},
   "outputs": [],
   "source": [
    "from sklearn.model_selection import train_test_split\n",
    "from sklearn.preprocessing import StandardScaler\n",
    "from sklearn.linear_model import LogisticRegression\n",
    "import pickle\n",
    "\n",
    "X = data_features.drop(['TenYearCHD'], axis=1)\n",
    "Y = data_features['TenYearCHD']"
   ]
  },
  {
   "cell_type": "code",
   "execution_count": 43,
   "id": "5defbf8a",
   "metadata": {},
   "outputs": [],
   "source": [
    "from collections import Counter\n",
    "from imblearn.over_sampling import SMOTE\n",
    "from imblearn.under_sampling import RandomUnderSampler\n",
    "from imblearn.pipeline import Pipeline\n",
    "# The numbers before SMOTE\n",
    "num_before = dict(Counter(Y))\n",
    "\n",
    "# Perform SMOTE\n",
    "# Define Pipeline\n",
    "over=SMOTE(sampling_strategy=0.8)\n",
    "under=RandomUnderSampler(sampling_strategy=0.8)\n",
    "steps=[(\"o\",over),(\"u\",under)]\n",
    "pipeline = Pipeline(steps=steps)\n",
    "\n",
    "# Transform the dataset\n",
    "X_smote,y_smote=pipeline.fit_resample(X,Y)\n",
    "# The numbers after SMOTE\n",
    "num_after=dict(Counter(y_smote))"
   ]
  },
  {
   "cell_type": "code",
   "execution_count": 44,
   "id": "08bf1c32",
   "metadata": {},
   "outputs": [
    {
     "data": {
      "text/html": [
       "<div>\n",
       "<style scoped>\n",
       "    .dataframe tbody tr th:only-of-type {\n",
       "        vertical-align: middle;\n",
       "    }\n",
       "\n",
       "    .dataframe tbody tr th {\n",
       "        vertical-align: top;\n",
       "    }\n",
       "\n",
       "    .dataframe thead th {\n",
       "        text-align: right;\n",
       "    }\n",
       "</style>\n",
       "<table border=\"1\" class=\"dataframe\">\n",
       "  <thead>\n",
       "    <tr style=\"text-align: right;\">\n",
       "      <th></th>\n",
       "      <th>age</th>\n",
       "      <th>education</th>\n",
       "      <th>sex</th>\n",
       "      <th>cigsPerDay</th>\n",
       "      <th>BPMeds</th>\n",
       "      <th>prevalentStroke</th>\n",
       "      <th>prevalentHyp</th>\n",
       "      <th>diabetes</th>\n",
       "      <th>totChol</th>\n",
       "      <th>sysBP</th>\n",
       "      <th>diaBP</th>\n",
       "      <th>BMI</th>\n",
       "      <th>heartRate</th>\n",
       "      <th>glucose</th>\n",
       "      <th>TenYearCHD</th>\n",
       "    </tr>\n",
       "  </thead>\n",
       "  <tbody>\n",
       "    <tr>\n",
       "      <th>0</th>\n",
       "      <td>61</td>\n",
       "      <td>2.0</td>\n",
       "      <td>0</td>\n",
       "      <td>0.0</td>\n",
       "      <td>0.0</td>\n",
       "      <td>0</td>\n",
       "      <td>0</td>\n",
       "      <td>0</td>\n",
       "      <td>219.0</td>\n",
       "      <td>120.0</td>\n",
       "      <td>72.5</td>\n",
       "      <td>22.35</td>\n",
       "      <td>76.0</td>\n",
       "      <td>92.0</td>\n",
       "      <td>0</td>\n",
       "    </tr>\n",
       "    <tr>\n",
       "      <th>1</th>\n",
       "      <td>36</td>\n",
       "      <td>3.0</td>\n",
       "      <td>0</td>\n",
       "      <td>20.0</td>\n",
       "      <td>0.0</td>\n",
       "      <td>0</td>\n",
       "      <td>0</td>\n",
       "      <td>0</td>\n",
       "      <td>159.0</td>\n",
       "      <td>121.5</td>\n",
       "      <td>73.0</td>\n",
       "      <td>20.41</td>\n",
       "      <td>72.0</td>\n",
       "      <td>75.0</td>\n",
       "      <td>0</td>\n",
       "    </tr>\n",
       "    <tr>\n",
       "      <th>2</th>\n",
       "      <td>38</td>\n",
       "      <td>2.0</td>\n",
       "      <td>0</td>\n",
       "      <td>7.0</td>\n",
       "      <td>0.0</td>\n",
       "      <td>0</td>\n",
       "      <td>0</td>\n",
       "      <td>0</td>\n",
       "      <td>160.0</td>\n",
       "      <td>95.0</td>\n",
       "      <td>65.0</td>\n",
       "      <td>21.99</td>\n",
       "      <td>72.0</td>\n",
       "      <td>77.0</td>\n",
       "      <td>0</td>\n",
       "    </tr>\n",
       "    <tr>\n",
       "      <th>3</th>\n",
       "      <td>48</td>\n",
       "      <td>2.0</td>\n",
       "      <td>1</td>\n",
       "      <td>25.0</td>\n",
       "      <td>0.0</td>\n",
       "      <td>0</td>\n",
       "      <td>1</td>\n",
       "      <td>0</td>\n",
       "      <td>249.0</td>\n",
       "      <td>132.0</td>\n",
       "      <td>95.0</td>\n",
       "      <td>29.79</td>\n",
       "      <td>90.0</td>\n",
       "      <td>53.0</td>\n",
       "      <td>0</td>\n",
       "    </tr>\n",
       "    <tr>\n",
       "      <th>4</th>\n",
       "      <td>62</td>\n",
       "      <td>1.0</td>\n",
       "      <td>1</td>\n",
       "      <td>5.0</td>\n",
       "      <td>0.0</td>\n",
       "      <td>0</td>\n",
       "      <td>1</td>\n",
       "      <td>0</td>\n",
       "      <td>243.0</td>\n",
       "      <td>157.0</td>\n",
       "      <td>96.0</td>\n",
       "      <td>28.83</td>\n",
       "      <td>75.0</td>\n",
       "      <td>71.0</td>\n",
       "      <td>0</td>\n",
       "    </tr>\n",
       "  </tbody>\n",
       "</table>\n",
       "</div>"
      ],
      "text/plain": [
       "   age  education  sex  cigsPerDay  BPMeds  prevalentStroke  prevalentHyp  \\\n",
       "0   61        2.0    0         0.0     0.0                0             0   \n",
       "1   36        3.0    0        20.0     0.0                0             0   \n",
       "2   38        2.0    0         7.0     0.0                0             0   \n",
       "3   48        2.0    1        25.0     0.0                0             1   \n",
       "4   62        1.0    1         5.0     0.0                0             1   \n",
       "\n",
       "   diabetes  totChol  sysBP  diaBP    BMI  heartRate  glucose  TenYearCHD  \n",
       "0         0    219.0  120.0   72.5  22.35       76.0     92.0           0  \n",
       "1         0    159.0  121.5   73.0  20.41       72.0     75.0           0  \n",
       "2         0    160.0   95.0   65.0  21.99       72.0     77.0           0  \n",
       "3         0    249.0  132.0   95.0  29.79       90.0     53.0           0  \n",
       "4         0    243.0  157.0   96.0  28.83       75.0     71.0           0  "
      ]
     },
     "execution_count": 44,
     "metadata": {},
     "output_type": "execute_result"
    }
   ],
   "source": [
    "# new dataset\n",
    "new_data = pd.concat([pd.DataFrame(X_smote), pd.DataFrame(y_smote)], axis=1)\n",
    "new_data.columns = ['age','education' ,'sex', 'cigsPerDay', 'BPMeds', 'prevalentStroke', 'prevalentHyp',\n",
    "'diabetes', 'totChol', 'sysBP', 'diaBP','BMI', 'heartRate', 'glucose', 'TenYearCHD']\n",
    "new_data.head()"
   ]
  },
  {
   "cell_type": "code",
   "execution_count": 45,
   "id": "b09fc1b2",
   "metadata": {},
   "outputs": [
    {
     "data": {
      "text/html": [
       "<div>\n",
       "<style scoped>\n",
       "    .dataframe tbody tr th:only-of-type {\n",
       "        vertical-align: middle;\n",
       "    }\n",
       "\n",
       "    .dataframe tbody tr th {\n",
       "        vertical-align: top;\n",
       "    }\n",
       "\n",
       "    .dataframe thead th {\n",
       "        text-align: right;\n",
       "    }\n",
       "</style>\n",
       "<table border=\"1\" class=\"dataframe\">\n",
       "  <thead>\n",
       "    <tr style=\"text-align: right;\">\n",
       "      <th></th>\n",
       "      <th>age</th>\n",
       "      <th>education</th>\n",
       "      <th>sex</th>\n",
       "      <th>cigsPerDay</th>\n",
       "      <th>BPMeds</th>\n",
       "      <th>prevalentStroke</th>\n",
       "      <th>prevalentHyp</th>\n",
       "      <th>diabetes</th>\n",
       "      <th>totChol</th>\n",
       "      <th>sysBP</th>\n",
       "      <th>diaBP</th>\n",
       "      <th>BMI</th>\n",
       "      <th>heartRate</th>\n",
       "      <th>glucose</th>\n",
       "    </tr>\n",
       "  </thead>\n",
       "  <tbody>\n",
       "    <tr>\n",
       "      <th>0</th>\n",
       "      <td>61</td>\n",
       "      <td>2.0</td>\n",
       "      <td>0</td>\n",
       "      <td>0.0</td>\n",
       "      <td>0.0</td>\n",
       "      <td>0</td>\n",
       "      <td>0</td>\n",
       "      <td>0</td>\n",
       "      <td>219.0</td>\n",
       "      <td>120.0</td>\n",
       "      <td>72.5</td>\n",
       "      <td>22.35</td>\n",
       "      <td>76.0</td>\n",
       "      <td>92.0</td>\n",
       "    </tr>\n",
       "    <tr>\n",
       "      <th>1</th>\n",
       "      <td>36</td>\n",
       "      <td>3.0</td>\n",
       "      <td>0</td>\n",
       "      <td>20.0</td>\n",
       "      <td>0.0</td>\n",
       "      <td>0</td>\n",
       "      <td>0</td>\n",
       "      <td>0</td>\n",
       "      <td>159.0</td>\n",
       "      <td>121.5</td>\n",
       "      <td>73.0</td>\n",
       "      <td>20.41</td>\n",
       "      <td>72.0</td>\n",
       "      <td>75.0</td>\n",
       "    </tr>\n",
       "    <tr>\n",
       "      <th>2</th>\n",
       "      <td>38</td>\n",
       "      <td>2.0</td>\n",
       "      <td>0</td>\n",
       "      <td>7.0</td>\n",
       "      <td>0.0</td>\n",
       "      <td>0</td>\n",
       "      <td>0</td>\n",
       "      <td>0</td>\n",
       "      <td>160.0</td>\n",
       "      <td>95.0</td>\n",
       "      <td>65.0</td>\n",
       "      <td>21.99</td>\n",
       "      <td>72.0</td>\n",
       "      <td>77.0</td>\n",
       "    </tr>\n",
       "    <tr>\n",
       "      <th>3</th>\n",
       "      <td>48</td>\n",
       "      <td>2.0</td>\n",
       "      <td>1</td>\n",
       "      <td>25.0</td>\n",
       "      <td>0.0</td>\n",
       "      <td>0</td>\n",
       "      <td>1</td>\n",
       "      <td>0</td>\n",
       "      <td>249.0</td>\n",
       "      <td>132.0</td>\n",
       "      <td>95.0</td>\n",
       "      <td>29.79</td>\n",
       "      <td>90.0</td>\n",
       "      <td>53.0</td>\n",
       "    </tr>\n",
       "    <tr>\n",
       "      <th>4</th>\n",
       "      <td>62</td>\n",
       "      <td>1.0</td>\n",
       "      <td>1</td>\n",
       "      <td>5.0</td>\n",
       "      <td>0.0</td>\n",
       "      <td>0</td>\n",
       "      <td>1</td>\n",
       "      <td>0</td>\n",
       "      <td>243.0</td>\n",
       "      <td>157.0</td>\n",
       "      <td>96.0</td>\n",
       "      <td>28.83</td>\n",
       "      <td>75.0</td>\n",
       "      <td>71.0</td>\n",
       "    </tr>\n",
       "  </tbody>\n",
       "</table>\n",
       "</div>"
      ],
      "text/plain": [
       "   age  education  sex  cigsPerDay  BPMeds  prevalentStroke  prevalentHyp  \\\n",
       "0   61        2.0    0         0.0     0.0                0             0   \n",
       "1   36        3.0    0        20.0     0.0                0             0   \n",
       "2   38        2.0    0         7.0     0.0                0             0   \n",
       "3   48        2.0    1        25.0     0.0                0             1   \n",
       "4   62        1.0    1         5.0     0.0                0             1   \n",
       "\n",
       "   diabetes  totChol  sysBP  diaBP    BMI  heartRate  glucose  \n",
       "0         0    219.0  120.0   72.5  22.35       76.0     92.0  \n",
       "1         0    159.0  121.5   73.0  20.41       72.0     75.0  \n",
       "2         0    160.0   95.0   65.0  21.99       72.0     77.0  \n",
       "3         0    249.0  132.0   95.0  29.79       90.0     53.0  \n",
       "4         0    243.0  157.0   96.0  28.83       75.0     71.0  "
      ]
     },
     "execution_count": 45,
     "metadata": {},
     "output_type": "execute_result"
    }
   ],
   "source": [
    "X_new = new_data.iloc[:, 0:14]\n",
    "Y_new= new_data.iloc[:,-1]\n",
    "X_new.head()"
   ]
  },
  {
   "cell_type": "code",
   "execution_count": 46,
   "id": "1ec42bbc",
   "metadata": {},
   "outputs": [],
   "source": [
    "X_train, X_test,y_train, y_test = train_test_split(X_new,Y_new,test_size=0.4,random_state=40)"
   ]
  },
  {
   "cell_type": "code",
   "execution_count": 47,
   "id": "0d6e91e5",
   "metadata": {},
   "outputs": [],
   "source": [
    "#Chuẩn hóa dữ liệu\n",
    "from sklearn.preprocessing import StandardScaler\n",
    "scaler=StandardScaler()\n",
    "X_train_scaled=scaler.fit_transform(X_train)\n",
    "X_train=pd.DataFrame(X_train_scaled)\n",
    "\n",
    "X_test_scaled=scaler.transform(X_test)\n",
    "X_test=pd.DataFrame(X_test_scaled)"
   ]
  },
  {
   "cell_type": "code",
   "execution_count": 48,
   "id": "49d89259",
   "metadata": {},
   "outputs": [
    {
     "name": "stderr",
     "output_type": "stream",
     "text": [
      "C:\\Users\\Hi\\anaconda3\\Lib\\site-packages\\sklearn\\ensemble\\_forest.py:424: FutureWarning: `max_features='auto'` has been deprecated in 1.1 and will be removed in 1.3. To keep the past behaviour, explicitly set `max_features='sqrt'` or remove this parameter as it is also the default value for RandomForestClassifiers and ExtraTreesClassifiers.\n",
      "  warn(\n"
     ]
    }
   ],
   "source": [
    "from sklearn.linear_model import LogisticRegression\n",
    "from sklearn.model_selection import GridSearchCV\n",
    "from sklearn.ensemble import RandomForestClassifier\n",
    "param_grid = {\n",
    "    'n_estimators': [50, 100, 150],\n",
    "    'max_depth': [10, 20, 30],  # Tăng giới hạn độ sâu\n",
    "    'min_samples_split': [5, 10],  # Tăng ngưỡng tối thiểu cho phân chia nút\n",
    "    'min_samples_leaf': [2, 4],  # Tăng ngưỡng tối thiểu cho lá\n",
    "    'max_features': ['auto', 'sqrt']\n",
    "}\n",
    "# Instantiate the RandomForestClassifier\n",
    "rf_classifier = RandomForestClassifier(random_state=42)\n",
    "\n",
    "lr = GridSearchCV(rf_classifier, param_grid, cv=5, n_jobs=-1)\n",
    "model =lr.fit(X_train,y_train)"
   ]
  },
  {
   "cell_type": "code",
   "execution_count": 49,
   "id": "8c2d6729",
   "metadata": {},
   "outputs": [],
   "source": [
    "#from sklearn.linear_model import LogisticRegression\n",
    "#from sklearn.ensemble import ExtraTreesClassifier\n",
    "#lr=ExtraTreesClassifier()\n",
    "\n",
    "#model =lr.fit(X_train,y_train)"
   ]
  },
  {
   "cell_type": "code",
   "execution_count": 50,
   "id": "b83b75a0",
   "metadata": {},
   "outputs": [],
   "source": [
    "# Lưu mô hình vào tệp model.pkl\n",
    "with open('model.pkl', 'wb') as model_file:\n",
    "    pickle.dump(model, model_file)"
   ]
  },
  {
   "cell_type": "code",
   "execution_count": 51,
   "id": "39932507",
   "metadata": {},
   "outputs": [
    {
     "data": {
      "text/plain": [
       "0.8489932885906041"
      ]
     },
     "execution_count": 51,
     "metadata": {},
     "output_type": "execute_result"
    }
   ],
   "source": [
    "prediction = model.predict(X_test)\n",
    "from sklearn.metrics import accuracy_score\n",
    "accuracy_score(y_test, prediction)"
   ]
  },
  {
   "cell_type": "code",
   "execution_count": 52,
   "id": "f746c7ca",
   "metadata": {},
   "outputs": [
    {
     "name": "stdout",
     "output_type": "stream",
     "text": [
      "[[880  94]\n",
      " [176 638]]\n"
     ]
    }
   ],
   "source": [
    "from sklearn.metrics import confusion_matrix\n",
    "cm = confusion_matrix(y_test, prediction)\n",
    "print(cm)"
   ]
  },
  {
   "cell_type": "code",
   "execution_count": 53,
   "id": "4c656aa7",
   "metadata": {},
   "outputs": [
    {
     "name": "stdout",
     "output_type": "stream",
     "text": [
      "              precision    recall  f1-score   support\n",
      "\n",
      "           0       0.83      0.90      0.87       974\n",
      "           1       0.87      0.78      0.83       814\n",
      "\n",
      "    accuracy                           0.85      1788\n",
      "   macro avg       0.85      0.84      0.85      1788\n",
      "weighted avg       0.85      0.85      0.85      1788\n",
      "\n"
     ]
    }
   ],
   "source": [
    "from sklearn.metrics import classification_report\n",
    "print(classification_report(y_test, prediction))"
   ]
  },
  {
   "cell_type": "code",
   "execution_count": 61,
   "id": "e8b63638",
   "metadata": {},
   "outputs": [
    {
     "data": {
      "text/plain": [
       "array([1], dtype=int64)"
      ]
     },
     "execution_count": 61,
     "metadata": {},
     "output_type": "execute_result"
    }
   ],
   "source": [
    "input_data = [50,1,0,0,0,0,1,0,240,163,105,31.37,89,75]\n",
    "features = np.array(input_data).reshape(1, -1)\n",
    "prediction = model.predict(features)\n",
    "prediction"
   ]
  }
 ],
 "metadata": {
  "kernelspec": {
   "display_name": "Python 3 (ipykernel)",
   "language": "python",
   "name": "python3"
  },
  "language_info": {
   "codemirror_mode": {
    "name": "ipython",
    "version": 3
   },
   "file_extension": ".py",
   "mimetype": "text/x-python",
   "name": "python",
   "nbconvert_exporter": "python",
   "pygments_lexer": "ipython3",
   "version": "3.11.3"
  }
 },
 "nbformat": 4,
 "nbformat_minor": 5
}
